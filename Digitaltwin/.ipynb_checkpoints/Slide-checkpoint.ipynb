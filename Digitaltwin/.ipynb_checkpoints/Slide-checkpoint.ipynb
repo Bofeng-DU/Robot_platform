{
 "cells": [
  {
   "cell_type": "code",
   "execution_count": 1,
   "id": "green-compromise",
   "metadata": {},
   "outputs": [],
   "source": [
    "# Trials of objects for the robo platform\n",
    "# HDF5 class for storing object parameters and provenance (not sure how to do the latter)\n",
    "\n",
    "# regular imports\n",
    "import numpy as np\n",
    "from pathlib import Path\n",
    "\n",
    "# imports of objects\n",
    "# requires 'pip install cfunits', and 'conda install -c conda-forge udunits2' on the command line\n",
    "from ObjectClasses.substrates import glassSlide\n",
    "from ObjectClasses.racks import slideRackSven, gripper\n",
    "from ObjectClasses.tables import opticalTableL, breadboard4545, breadboard1545, breadboard1515, breadboard1530, breadboard3045, breadboard1515C\n",
    "from ObjectClasses.motionplatforms import roboArm\n",
    "from ObjectClasses.cylinders import robotCylinder\n",
    "from ObjectClasses.smtProfiles import smt_50x25\n",
    "from ObjectClasses.syringeActuator import Alladin_1000\n",
    "from ObjectClasses.breadBoardCube import simpleBreadBoardCube\n",
    "from ObjectClasses.microscopes import wildType374547\n",
    "from ObjectClasses.hotPlate import IKA_HotPlate\n",
    "from RoboticSystemScene import RoboticSystemScene\n",
    "import pythreejs\n",
    "\n",
    "# for 3D volume visualisation:\n",
    "# install nodeJS LTS from nodejs website \n",
    "# conda install -c conda-forge ipyvolume\n",
    "# jupyter labextension install @jupyter-widgets/jupyterlab-manager\n",
    "# jupyter labextension install ipyvolume\n",
    "# jupyter labextension install jupyter-threejs\n",
    "# pip install bqplot\n",
    "# jupyter labextension install bqplot\n",
    "import ipyvolume as ipv\n",
    "# pip install vaex\n",
    "# import vaex\n",
    "# loading STL:\n",
    "# pip install numpy-stl\n",
    "from stl import mesh\n",
    "# try using mplot3d for vis\n",
    "from mpl_toolkits import mplot3d\n",
    "import matplotlib.pyplot as plt\n",
    "%matplotlib inline\n",
    "%matplotlib widget\n",
    "# for rotations:\n",
    "from scipy.spatial import transform\n",
    "# for robot arm simulation:\n",
    "# pip install git+https://github.com/Mecademic/python_driver\n",
    "# import MecademicRobot\n",
    "from operator import add"
   ]
  },
  {
   "cell_type": "code",
   "execution_count": 2,
   "id": "outer-trinity",
   "metadata": {},
   "outputs": [],
   "source": [
    "# yea, that doesn't work without an actual robot, not even in sim mode...\n",
    "# robot = MecademicRobot.RobotController('192.168.0.100')"
   ]
  },
  {
   "cell_type": "code",
   "execution_count": 3,
   "id": "optional-winning",
   "metadata": {},
   "outputs": [],
   "source": [
    "objectNames = []\n",
    "# put all the objects in here, so we can process them all later. \n",
    "# let's start with a table:\n",
    "mainTable= opticalTableL(\n",
    "    filename = Path('mainTable.h5'), \n",
    "    deleteExisting = True, \n",
    "    name = 'main optical base table',\n",
    "    rotation = [0., 0., 0.],\n",
    "    location = [0., 0., 0.]\n",
    ")\n",
    "\n",
    "# We need the breadboard on which the SMT profile stands\n",
    "smtBreadboard= breadboard1530(\n",
    "    filename = Path('smtBreadboard.h5'), \n",
    "    deleteExisting = True, \n",
    "    name = 'breadboard on which SMT profile stands', \n",
    "    parent = mainTable, \n",
    "    rotation = [0., 0., -90.],\n",
    "    location = list(map(add, mainTable.positions[29, 14], [12.5, 12.5, 0.]))\n",
    ")\n",
    "\n",
    "\n",
    "# I need a slide rack on a smaller breadboard:\n",
    "rackBreadboard= breadboard3045(\n",
    "    filename = Path('rackBreadboard.h5'), \n",
    "    deleteExisting = True, \n",
    "    name = 'breadboard on which the slide storage rack sits', \n",
    "    parent = mainTable, \n",
    "    rotation = [0., 0., 0.],\n",
    "    location = list(map(add, mainTable.positions[5, 7], [0., 0., 17.]))\n",
    ")\n",
    "\n",
    "# put the robot arm breadboard on it (small, centered version), somewhere in the middle\n",
    "armBreadboard= breadboard1530(\n",
    "    filename = Path('armBreadboard.h5'), \n",
    "    deleteExisting = True, \n",
    "    name = 'breadboard on which the cylinders sit', \n",
    "    parent = mainTable, \n",
    "    rotation = [0, 0, 0],\n",
    "    location = list(map(add, mainTable.positions[5, 19], [12.5, 12.5, 0.]))\n",
    ")\n",
    "\n",
    "# put the robot arm breadboard on it (small, centered version), somewhere in the middle\n",
    "cameraBreadboard= breadboard1515(\n",
    "    filename = Path('cameraBreadboard.h5'), \n",
    "    deleteExisting = True, \n",
    "    name = 'breadboard on which the camera is mounted', \n",
    "    parent = mainTable, \n",
    "    rotation = [0, 0, 0],\n",
    "    location = list(map(add, mainTable.positions[24, 8], [12.5, 12.5, 0.]))        \n",
    ")\n",
    "\n",
    "# I need a slide rack on a smaller breadboard:\n",
    "hotplateBreadboard= breadboard3045(\n",
    "    filename = Path('HPBreadboard.h5'), \n",
    "    deleteExisting = True, \n",
    "    name = 'breadboard on which the hotplate sits', \n",
    "    parent = mainTable, \n",
    "    rotation = [0, 0, 0],\n",
    "    location = list(map(add, mainTable.positions[2, 26], [12.5, 12.5, 0.]))\n",
    ")\n",
    "\n",
    "# We need the smt profile that holds Alladin\n",
    "smtAlladin = smt_50x25(\n",
    "    filename = Path('smtAlladin.h5'), \n",
    "    deleteExisting = True, \n",
    "    name = 'SMT profile that holds the Alladin syringe pump', \n",
    "    parent = smtBreadboard, \n",
    "    rotation = [0, 0, 0],\n",
    "    location = list(map(add, smtBreadboard.positions[8, 0], [12.5, 17., 0.]))\n",
    ")\n",
    "\n",
    "# We need the smt profile that holds Alladin\n",
    "alladinPump = Alladin_1000(\n",
    "    filename = Path('Alladin.h5'), \n",
    "    deleteExisting = True, \n",
    "    name = 'Alladin syringe pump', \n",
    "    parent = smtAlladin, \n",
    "    rotation = [0, 0, 0],\n",
    "    location = [0., 12.5, 566.]\n",
    ")\n",
    "\n",
    "armCylinders = []\n",
    "\n",
    "# put the 4 cylinders on the robot arm breadboard\n",
    "for i in range(2):\n",
    "    for j in range(2):\n",
    "        armCylinders += [robotCylinder(\n",
    "            filename = Path('armCylinder{}.h5'.format(i*2 + j + 1)), \n",
    "            deleteExisting = True, \n",
    "            name = 'cylinder on which the robot arm sits', \n",
    "            parent = armBreadboard, \n",
    "            rotation = [0, 0, 0],\n",
    "            location = armBreadboard.positions[6 + i*4, 1 + j*3]\n",
    "        )]\n",
    "\n",
    "# and the slide rack itself:\n",
    "rack1 = slideRackSven(\n",
    "    filename = Path('slideRack1.h5'), \n",
    "    stlFilename = Path('ObjectClasses/STLs/Slide_rack_text.stl'),\n",
    "    name = 'Slide Rack a la Sven',\n",
    "    parent = rackBreadboard,\n",
    "    rotation = [0, 0, 0], # rotation vector / Euler vector, units in degrees\n",
    "    location = list(map(add, rackBreadboard.positions[15, 9], [12.5, 0., 0.]))\n",
    ")\n",
    "\n",
    "# now I just need a slide or two:\n",
    "slide1= glassSlide(\n",
    "    filename = Path('testSlide.h5'), \n",
    "    deleteExisting = True, \n",
    "    name = 'my first glass slide', \n",
    "    stlFilename = Path('ObjectClasses/STLs/Glass_slide_text.stl'),\n",
    "    location = rack1.positions['B'],\n",
    "    parent = rack1\n",
    ")\n",
    "\n",
    "\n",
    "slide2= glassSlide(\n",
    "    filename = Path('testSlide2.h5'), \n",
    "    extent = [-25, 25, -12, 12, 0, 0.17], \n",
    "    name = 'my second glass slide',\n",
    "    location = rack1.positions['D'],\n",
    "    rotation = [0, 0, 10],\n",
    "    parent = rack1\n",
    ")\n",
    "\n",
    "# put the robot arm on it:\n",
    "arm = roboArm(\n",
    "    filename = Path('arm.h5'), \n",
    "    deleteExisting = True, \n",
    "    name = 'robot arm', \n",
    "    parent = armCylinders[0], \n",
    "    location = [50., 37.5, armCylinders[0].height],\n",
    "    rotation = [0, 0, 0],\n",
    "    positions = {'actuator': np.array([180., -60, -10.])}, # in external units (mm)\n",
    "    orientations = {'actuator': [0, 0, 180]} # in external units (degree)\n",
    ") # position of the robot arm (arm.positions['actuator']) would change over time, wonder if location of gripper can handle movements of position of attachment point?\n",
    "\n",
    "#attach the gripper:\n",
    "grip = gripper(\n",
    "    filename = Path('grip.h5'), \n",
    "    deleteExisting = True, \n",
    "    name = 'gripper', \n",
    "    stlFilename = Path('ObjectClasses/STLs/doubleGrips.stl'),\n",
    "    parent = arm, \n",
    "    location = arm.positions['actuator'],\n",
    "    rotation = arm.orientations['actuator'], # same same\n",
    "    # positions = {'actuator': [0, 66, -11]}\n",
    ")\n",
    "\n",
    "testCube = simpleBreadBoardCube(\n",
    "    filename = Path('testCube.h5'), \n",
    "    deleteExisting = True, \n",
    "    name = 'test_cube',\n",
    "    parent = rackBreadboard, \n",
    "    location = rackBreadboard.positions[5,5],\n",
    "    rotation = [0., 0., 0.]\n",
    ")\n",
    "\n",
    "microscope = wildType374547(\n",
    "    filename = Path('microscope.h5'),\n",
    "    stlFilename = Path('ObjectClasses/STLs/Microscope.stl'),\n",
    "    deleteExisting = True, \n",
    "    name = 'microscope',\n",
    "    parent = mainTable, \n",
    "    location = list(map(add, mainTable.positions[24,29], [12.5, 10., 0.])),\n",
    "    rotation = [0., 0., 0.]\n",
    ")\n",
    "\n",
    "hotplate = IKA_HotPlate(\n",
    "    filename = Path('hotplate.h5'),\n",
    "    stlFilename = Path('ObjectClasses/STLs/Hotplate.stl'),\n",
    "    deleteExisting = True, \n",
    "    name = 'hotplate',\n",
    "    parent = hotplateBreadboard, \n",
    "    location = list(map(add, hotplateBreadboard.positions[16, 1], [10., 3., 0.])),\n",
    "    rotation = [0., 0., 0.]\n",
    ")\n",
    "\n",
    "breadBoardOnHotplate = breadboard1515C(\n",
    "    filename = Path('breadBoardOnHotplate.h5'),\n",
    "    deleteExisting = True, \n",
    "    name = 'breadboard on top of hotplate',\n",
    "    parent = hotplate, \n",
    "    location = hotplate.positions[0],\n",
    "    rotation = [0., 0., 0.]\n",
    ")\n",
    "\n",
    "\n",
    "# Collect the objects inside a list\n",
    "objects = [\n",
    "    mainTable,\n",
    "    smtBreadboard,\n",
    "    rackBreadboard,\n",
    "    armBreadboard,\n",
    "    cameraBreadboard,\n",
    "    hotplateBreadboard,\n",
    "    smtAlladin,\n",
    "    alladinPump,\n",
    "    rack1,\n",
    "    slide1,\n",
    "    slide2,\n",
    "    arm,\n",
    "    grip,\n",
    "    testCube,\n",
    "    microscope,\n",
    "    hotplate,\n",
    "    breadBoardOnHotplate] + armCylinders\n",
    "\n",
    "# [setattr(key, obj) for key, obj in objects.items()]\n",
    "# for obj in objectList:\n",
    "#     obj.store() # not everything is stored such as parent and STL data. TODO: fix. it doesn't know how to deal with parent\n",
    "# now everything should be initialized and I can visualise the set-up (maybe)"
   ]
  },
  {
   "cell_type": "code",
   "execution_count": 4,
   "metadata": {},
   "outputs": [
    {
     "output_type": "display_data",
     "data": {
      "text/plain": "Renderer(camera=PerspectiveCamera(aspect=2.6666666666666665, position=(1000.0, 0.0, 1000.0), projectionMatrix=…",
      "application/vnd.jupyter.widget-view+json": {
       "version_major": 2,
       "version_minor": 0,
       "model_id": "c54e34ad843e49b39cd946c8ad1601c0"
      }
     },
     "metadata": {}
    }
   ],
   "source": [
    "robot_sys_scene = RoboticSystemScene(objects=objects)\n",
    "robot_sys_scene.convertObjectsToMeshes()\n",
    "robot_sys_scene.createSceneThreeJs()\n",
    "robot_sys_scene.showSceneThreeJs()"
   ]
  },
  {
   "cell_type": "code",
   "execution_count": 5,
   "metadata": {},
   "outputs": [],
   "source": [
    "robot_sys_scene.translateObject(np.array([0.,0., 100.]), 0)"
   ]
  },
  {
   "cell_type": "code",
   "execution_count": 38,
   "metadata": {},
   "outputs": [
    {
     "output_type": "execute_result",
     "data": {
      "text/plain": [
       "(0.0, 0.0, 0.0)"
      ]
     },
     "metadata": {},
     "execution_count": 38
    }
   ],
   "source": [
    "robot_sys_scene.scene_3js.children[2].position"
   ]
  },
  {
   "cell_type": "code",
   "execution_count": 12,
   "metadata": {},
   "outputs": [],
   "source": [
    "robot_sys_scene.rotateObject(np.array([0.,0., 90.]), 0)"
   ]
  },
  {
   "cell_type": "code",
   "execution_count": 16,
   "id": "advanced-miracle",
   "metadata": {},
   "outputs": [
    {
     "output_type": "execute_result",
     "data": {
      "text/plain": [
       "{'actuator': array([180., -60.,  90.])}"
      ]
     },
     "metadata": {},
     "execution_count": 16
    }
   ],
   "source": [
    "# move arm position up, see if the gripper inherits that move:\n",
    "# put the robot arm on it:\n",
    "arm.positions['actuator'] += [0, 0, 100] # in external units (mm)\n",
    "arm.positions"
   ]
  },
  {
   "cell_type": "code",
   "execution_count": 17,
   "metadata": {},
   "outputs": [
    {
     "output_type": "execute_result",
     "data": {
      "text/plain": [
       "array([180., -60., -10.])"
      ]
     },
     "metadata": {},
     "execution_count": 17
    }
   ],
   "source": [
    "grip.location"
   ]
  },
  {
   "cell_type": "code",
   "execution_count": 18,
   "id": "governing-carroll",
   "metadata": {},
   "outputs": [],
   "source": [
    "# Matplotlib based visualization\n",
    "def showObjects(objects):\n",
    "    # Create a new plot\n",
    "#     figure = ipv.figure()\n",
    "    figure = plt.figure(figsize = [10, 8])\n",
    "    axes = mplot3d.Axes3D(figure)\n",
    "\n",
    "    # let's get some colors:\n",
    "    rbColors = plt.cm.rainbow(np.linspace(0, 1, len(objects)))\n",
    "\n",
    "    # Load the STL files and add the vectors to the plot\n",
    "    for num, obj in enumerate(objects):\n",
    "        print(f'working on object {obj.name}')\n",
    "        if obj in [mainTable]:\n",
    "            continue # don't show these, mplot3d isn't very good at it. \n",
    "        objStlVectors = obj.renderAbsoluteStlVectors()\n",
    "        # we draw the tetrahedron\n",
    "        # axes = ipv.plot_surface(objStlVectors[:,0], objStlVectors[:,1], objStlVectors[:,2], color=rbColors[num])\n",
    "        axes.add_collection3d(mplot3d.art3d.Poly3DCollection(objStlVectors, color = rbColors[num]))\n",
    "\n",
    "    # Auto scale to the mesh size\n",
    "    scale = mainTable.stl.points.flatten()\n",
    "    axes.set_xlim(250, 1000)\n",
    "    axes.set_xlabel('x')\n",
    "    axes.set_ylim(0, 750)\n",
    "    axes.set_ylabel('y')\n",
    "    axes.set_zlim(-250, 500)\n",
    "    axes.set_zlabel('z')\n",
    "    # axes.set_aspect(1)\n",
    "    # doesn't work:\n",
    "    # mplot3d.art3d.rotate_axes(0, 0, 90, 'z')\n",
    "    # Show the plot to the screen\n",
    "    plt.legend()\n",
    "    plt.show()\n",
    "    for obj in objects:\n",
    "        print(f'{obj.name}\\n \\t extent: {obj.extent}, absLoc: {obj.getAbsoluteLocation()}')\n",
    "# showObjects(objects)"
   ]
  },
  {
   "cell_type": "code",
   "execution_count": 24,
   "metadata": {},
   "outputs": [],
   "source": [
    "# Animation track and rotation setup\n",
    "\n",
    "positon_track = VectorKeyframeTrack(name='.position',\n",
    "    times=[0, 2, 5],\n",
    "    values=[10, 6, 10,\n",
    "            6.3, 3.78, 6.3,\n",
    "            -2.98, 0.84, 9.2,\n",
    "        ])\n",
    "rotation_track = QuaternionKeyframeTrack(name='.quaternion',\n",
    "    times=[0, 2, 5],\n",
    "    values=[-0.184, 0.375, 0.0762, 0.905,\n",
    "            -0.184, 0.375, 0.0762, 0.905,\n",
    "            -0.0430, -0.156, -0.00681, 0.987,\n",
    "        ])\n",
    "\n",
    "camera_clip = AnimationClip(tracks=[positon_track, rotation_track])\n",
    "camera_action = AnimationAction(AnimationMixer(camera), camera_clip, camera)"
   ]
  },
  {
   "cell_type": "code",
   "execution_count": 25,
   "metadata": {},
   "outputs": [],
   "source": [
    "# for i in range(len(meshes)):\n",
    "#     meshes[i].receiveShadow = True\n",
    "#     meshes[i].castShadow = True"
   ]
  },
  {
   "cell_type": "code",
   "execution_count": 26,
   "metadata": {},
   "outputs": [
    {
     "output_type": "display_data",
     "data": {
      "text/plain": "Renderer(camera=PerspectiveCamera(aspect=2.6666666666666665, position=(1000.0, 0.0, 1000.0), projectionMatrix=…",
      "application/vnd.jupyter.widget-view+json": {
       "version_major": 2,
       "version_minor": 0,
       "model_id": "e3f2f6edcfeb4da59a4f64bd46c87d9c"
      }
     },
     "metadata": {}
    }
   ],
   "source": [
    "# Visualize the objects' meshes\n",
    "scene = showMeshesThreeJs(meshes, camera)"
   ]
  },
  {
   "cell_type": "code",
   "execution_count": 27,
   "metadata": {},
   "outputs": [
    {
     "output_type": "error",
     "ename": "NameError",
     "evalue": "name 'animation' is not defined",
     "traceback": [
      "\u001b[0;31m---------------------------------------------------------------------------\u001b[0m",
      "\u001b[0;31mNameError\u001b[0m                                 Traceback (most recent call last)",
      "\u001b[0;32m<ipython-input-27-974dfbc209ee>\u001b[0m in \u001b[0;36m<module>\u001b[0;34m\u001b[0m\n\u001b[0;32m----> 1\u001b[0;31m \u001b[0manimation\u001b[0m\u001b[0;34m\u001b[0m\u001b[0;34m\u001b[0m\u001b[0m\n\u001b[0m",
      "\u001b[0;31mNameError\u001b[0m: name 'animation' is not defined"
     ]
    }
   ],
   "source": [
    "animation"
   ]
  },
  {
   "cell_type": "code",
   "execution_count": 35,
   "metadata": {},
   "outputs": [],
   "source": [
    "def rotation_around_axis(axis, degrees, mesh):\n",
    "\n",
    "    rotation_null = Quaternion(axis=axis, degrees=0.)\n",
    "    rotation_null = list(rotation_null.elements)\n",
    "\n",
    "    rotation = Quaternion(axis=axis, degrees=degrees)\n",
    "    rotation = list(rotation.elements)\n",
    "\n",
    "    rotation_null.extend(rotation)\n",
    "    values = rotation_null\n",
    "\n",
    "    track = QuaternionKeyframeTrack(name='.quaternion', times=[0,1], values=values)\n",
    "    clip = AnimationClip(tracks=[track])\n",
    "    animation = AnimationAction(mixer=AnimationMixer(), clip=clip, localRoot=mesh)\n",
    "\n",
    "    return animation"
   ]
  },
  {
   "cell_type": "code",
   "execution_count": 36,
   "metadata": {},
   "outputs": [],
   "source": [
    "animation = rotation_around_axis([1,0,0], 90., meshes[1])"
   ]
  },
  {
   "cell_type": "code",
   "execution_count": 14,
   "metadata": {},
   "outputs": [],
   "source": [
    "meshes[8].position = (0., 0., 0.)"
   ]
  },
  {
   "cell_type": "code",
   "execution_count": 15,
   "metadata": {},
   "outputs": [],
   "source": [
    "meshes[8].quaternion = (0., 0., 0., 1.)"
   ]
  },
  {
   "cell_type": "code",
   "execution_count": 16,
   "metadata": {},
   "outputs": [],
   "source": [
    "meshes[8].rotateZ(1.)"
   ]
  },
  {
   "cell_type": "code",
   "execution_count": 17,
   "metadata": {},
   "outputs": [],
   "source": [
    "track1 = NumberKeyframeTrack(name='.rotation[z]', times=[0,1], values=[0,1])\n",
    "clip1 = AnimationClip(tracks=[track1])\n",
    "animation1 = AnimationAction(mixer=AnimationMixer(), clip=clip1, localRoot=meshes[11])"
   ]
  },
  {
   "cell_type": "code",
   "execution_count": 18,
   "metadata": {},
   "outputs": [],
   "source": [
    "track2 = VectorKeyframeTrack(name='.position', times=[0,1], values=[0.,0.,0., 0.,0.,300.])\n",
    "clip2 = AnimationClip(tracks=[track1, track2])\n",
    "animation2 = AnimationAction(mixer=AnimationMixer(), clip=clip2, localRoot=meshes[12])  "
   ]
  },
  {
   "cell_type": "code",
   "execution_count": 19,
   "metadata": {},
   "outputs": [],
   "source": [
    "rotation_null = Quaternion(axis=[0,0,1], degrees=0.)"
   ]
  },
  {
   "cell_type": "code",
   "execution_count": 20,
   "metadata": {},
   "outputs": [],
   "source": [
    "rotation_null = list(rotation_null.elements)"
   ]
  },
  {
   "cell_type": "code",
   "execution_count": 21,
   "metadata": {},
   "outputs": [],
   "source": [
    "rotation_z = Quaternion(axis=[0,0,1], degrees=90.)"
   ]
  },
  {
   "cell_type": "code",
   "execution_count": 22,
   "metadata": {},
   "outputs": [],
   "source": [
    "rotation_z = list(rotation_z.elements)"
   ]
  },
  {
   "cell_type": "code",
   "execution_count": 23,
   "metadata": {},
   "outputs": [],
   "source": [
    "rotation_null.extend(rotation_z)"
   ]
  },
  {
   "cell_type": "code",
   "execution_count": 24,
   "metadata": {},
   "outputs": [],
   "source": [
    "values = rotation_null"
   ]
  },
  {
   "cell_type": "code",
   "execution_count": 25,
   "metadata": {},
   "outputs": [],
   "source": [
    "track3 = QuaternionKeyframeTrack(name='.quaternion', times=[0,1], values=values)\n",
    "clip3 = AnimationClip(tracks=[track3])\n",
    "animation3 = AnimationAction(mixer=AnimationMixer(), clip=clip3, localRoot=meshes[12])  "
   ]
  },
  {
   "cell_type": "code",
   "execution_count": 41,
   "metadata": {},
   "outputs": [],
   "source": [
    "animation1.loop = 'LoopOnce'"
   ]
  },
  {
   "cell_type": "code",
   "execution_count": 17,
   "metadata": {},
   "outputs": [],
   "source": [
    "animation2.loop = 'LoopOnce'"
   ]
  },
  {
   "cell_type": "code",
   "execution_count": 39,
   "metadata": {},
   "outputs": [],
   "source": [
    "animations = [animation1, animation2]\n",
    "for i in range(2):\n",
    "    animations[i].play()"
   ]
  },
  {
   "cell_type": "code",
   "execution_count": 21,
   "metadata": {},
   "outputs": [],
   "source": [
    "scene2 = Scene(children=[meshes[1], meshes[2]])"
   ]
  },
  {
   "cell_type": "code",
   "execution_count": 22,
   "metadata": {},
   "outputs": [],
   "source": [
    "# [(name, type(getattr(meshes[0], name))) for name in dir(meshes[0])]"
   ]
  },
  {
   "cell_type": "code",
   "execution_count": 65,
   "metadata": {},
   "outputs": [],
   "source": []
  },
  {
   "cell_type": "code",
   "execution_count": 23,
   "metadata": {},
   "outputs": [],
   "source": [
    "# [(name,type(getattr(animation1,name))) for name in dir(animation1)]"
   ]
  },
  {
   "cell_type": "code",
   "execution_count": 24,
   "metadata": {},
   "outputs": [],
   "source": [
    "# [(name,type(getattr(track1,name))) for name in dir(track1)]"
   ]
  },
  {
   "cell_type": "code",
   "execution_count": 25,
   "metadata": {},
   "outputs": [
    {
     "output_type": "display_data",
     "data": {
      "text/plain": "AnimationAction(clip=AnimationClip(duration=5.0, tracks=(VectorKeyframeTrack(name='.position', times=array([0,…",
      "application/vnd.jupyter.widget-view+json": {
       "version_major": 2,
       "version_minor": 0,
       "model_id": "5fc0565f17e043758ba9ec5a8fb4414b"
      }
     },
     "metadata": {}
    }
   ],
   "source": [
    "camera_action"
   ]
  },
  {
   "cell_type": "code",
   "execution_count": 26,
   "metadata": {},
   "outputs": [],
   "source": [
    "# Everything below here contains tests, part of which don't work"
   ]
  },
  {
   "cell_type": "code",
   "execution_count": 27,
   "id": "looking-representative",
   "metadata": {},
   "outputs": [
    {
     "output_type": "execute_result",
     "data": {
      "text/plain": [
       "array([180., -60., -10.])"
      ]
     },
     "metadata": {},
     "execution_count": 27
    }
   ],
   "source": [
    "arm.positions['actuator']"
   ]
  },
  {
   "cell_type": "code",
   "execution_count": 28,
   "id": "aggregate-musician",
   "metadata": {},
   "outputs": [
    {
     "output_type": "execute_result",
     "data": {
      "text/plain": [
       "array([512.5, 400. ,  94.7])"
      ]
     },
     "metadata": {},
     "execution_count": 28
    }
   ],
   "source": [
    "slide2.getAbsoluteLocation()"
   ]
  },
  {
   "cell_type": "code",
   "execution_count": 29,
   "id": "accepted-airfare",
   "metadata": {},
   "outputs": [
    {
     "output_type": "execute_result",
     "data": {
      "text/plain": [
       "array([ 1., -3.,  2.])"
      ]
     },
     "metadata": {},
     "execution_count": 29
    }
   ],
   "source": [
    "# test on combining rotations \n",
    "r = transform.Rotation.from_rotvec([np.pi/2, 0, 0])\n",
    "r.apply([1,2,3])"
   ]
  },
  {
   "cell_type": "code",
   "execution_count": 30,
   "id": "helpful-elite",
   "metadata": {},
   "outputs": [
    {
     "output_type": "execute_result",
     "data": {
      "text/plain": [
       "\"[{'timestamp': '2021-06-30T09:39:01.733600', 'event': 'Object name updated to breadboard on which the cylinders sit'}, {'timestamp': '2021-06-30T09:39:01.733691', 'event': 'Object rotation vector updated to [0, 0, 0] degree'}, {'timestamp': '2021-06-30T09:39:01.733755', 'event': 'Object location updated to [137.5, 487.5, 0.0] mm'}, {'timestamp': '2021-06-30T09:39:01.733946', 'event': 'Object extent updated to [-12.5, 287.5, -12.5, 137.5, 0.0, 12.7] mm'}]\""
      ]
     },
     "metadata": {},
     "execution_count": 30
    }
   ],
   "source": [
    "armBreadboard.provenance()"
   ]
  },
  {
   "cell_type": "code",
   "execution_count": 31,
   "id": "unsigned-passing",
   "metadata": {},
   "outputs": [
    {
     "output_type": "execute_result",
     "data": {
      "text/plain": [
       "['Internal (object) unit for Length: m',\n",
       " 'Internal (object) unit for Angle: radian',\n",
       " 'External (user) unit for Length: mm',\n",
       " 'External (user) unit for Angle: degree']"
      ]
     },
     "metadata": {},
     "execution_count": 31
    }
   ],
   "source": [
    "# reveal what units are used on the user side (external) and for storage/description (internal)\n",
    "slide1.units()"
   ]
  },
  {
   "cell_type": "code",
   "execution_count": 33,
   "id": "forty-scientist",
   "metadata": {},
   "outputs": [],
   "source": [
    "# slide1.store()"
   ]
  },
  {
   "cell_type": "code",
   "execution_count": 34,
   "id": "detailed-valuation",
   "metadata": {},
   "outputs": [
    {
     "output_type": "execute_result",
     "data": {
      "text/plain": [
       "array([-25.  ,  25.  , -12.  ,  12.  ,   0.  ,   0.17])"
      ]
     },
     "metadata": {},
     "execution_count": 34
    }
   ],
   "source": [
    "slide1.extent"
   ]
  },
  {
   "cell_type": "code",
   "execution_count": 36,
   "id": "honey-fountain",
   "metadata": {},
   "outputs": [
    {
     "output_type": "execute_result",
     "data": {
      "text/plain": [
       "(-25.0, 25.0, -12.0, 12.0, 0.0, 0.17000000178813934)"
      ]
     },
     "metadata": {},
     "execution_count": 36
    }
   ],
   "source": [
    "slide1.loadStl()\n",
    "slide1.extentFromStl(setExtent = True)"
   ]
  },
  {
   "cell_type": "code",
   "execution_count": 37,
   "id": "developed-manor",
   "metadata": {},
   "outputs": [
    {
     "output_type": "display_data",
     "data": {
      "text/plain": "Canvas(toolbar=Toolbar(toolitems=[('Home', 'Reset original view', 'home', 'home'), ('Back', 'Back to previous …",
      "application/vnd.jupyter.widget-view+json": {
       "version_major": 2,
       "version_minor": 0,
       "model_id": "6a9fc6d7cb894391aea776c58b37ad46"
      }
     },
     "metadata": {}
    },
    {
     "output_type": "stream",
     "name": "stderr",
     "text": [
      "<ipython-input-37-c0b7aeeb0689>:3: MatplotlibDeprecationWarning: Axes3D(fig) adding itself to the figure is deprecated since 3.4. Pass the keyword argument auto_add_to_figure=False and use fig.add_axes(ax) to suppress this warning. The default value of auto_add_to_figure will change to False in mpl3.5 and True values will no longer work in 3.6.  This is consistent with other Axes classes.\n  axes = mplot3d.Axes3D(figure)\n"
     ]
    }
   ],
   "source": [
    "# Create a new plot\n",
    "figure = plt.figure()\n",
    "axes = mplot3d.Axes3D(figure)\n",
    "\n",
    "# Load the STL files and add the vectors to the plot\n",
    "axes.add_collection3d(mplot3d.art3d.Poly3DCollection(slide1.stl.vectors))\n",
    "\n",
    "cube = slide1.unityCube()\n",
    "cube.vectors *= [20, 1, 30]\n",
    "axes.add_collection3d(mplot3d.art3d.Poly3DCollection(cube.vectors))\n",
    "\n",
    "\n",
    "# Auto scale to the mesh size\n",
    "scale = slide1.stl.points.flatten()\n",
    "axes.auto_scale_xyz(scale, scale, scale)\n",
    "# doesn't work:\n",
    "# mplot3d.art3d.rotate_axes(0, 0, 90, 'z')\n",
    "# Show the plot to the screen\n",
    "plt.show()"
   ]
  },
  {
   "cell_type": "code",
   "execution_count": 38,
   "id": "earned-bacon",
   "metadata": {},
   "outputs": [
    {
     "output_type": "stream",
     "text": [
      "\u001b[0;31mSignature:\u001b[0m \u001b[0mcube\u001b[0m\u001b[0;34m.\u001b[0m\u001b[0mtransform\u001b[0m\u001b[0;34m(\u001b[0m\u001b[0mmatrix\u001b[0m\u001b[0;34m)\u001b[0m\u001b[0;34m\u001b[0m\u001b[0;34m\u001b[0m\u001b[0m\n",
      "\u001b[0;31mDocstring:\u001b[0m\n",
      "Transform the mesh with a rotation and a translation stored in a\n",
      "single 4x4 matrix\n",
      "\n",
      ":param numpy.array matrix: Transform matrix with shape (4, 4), where\n",
      "                           matrix[0:3, 0:3] represents the rotation\n",
      "                           part of the transformation\n",
      "                           matrix[0:3, 3] represents the translation\n",
      "                           part of the transformation\n",
      "\u001b[0;31mFile:\u001b[0m      ~/.local/lib/python3.8/site-packages/stl/base.py\n",
      "\u001b[0;31mType:\u001b[0m      method\n"
     ],
     "name": "stdout"
    }
   ],
   "source": [
    "cube.transform?"
   ]
  },
  {
   "cell_type": "code",
   "execution_count": 40,
   "id": "blessed-compilation",
   "metadata": {},
   "outputs": [
    {
     "output_type": "error",
     "ename": "OSError",
     "evalue": "Unable to open file (unable to open file: name = 'testSlide.h5', errno = 2, error message = 'No such file or directory', flags = 0, o_flags = 0)",
     "traceback": [
      "\u001b[0;31m---------------------------------------------------------------------------\u001b[0m",
      "\u001b[0;31mOSError\u001b[0m                                   Traceback (most recent call last)",
      "\u001b[0;32m<ipython-input-40-7b2f9d6b178b>\u001b[0m in \u001b[0;36m<module>\u001b[0;34m\u001b[0m\n\u001b[0;32m----> 1\u001b[0;31m \u001b[0mslide3\u001b[0m \u001b[0;34m=\u001b[0m \u001b[0mglassSlide\u001b[0m\u001b[0;34m(\u001b[0m\u001b[0mfilename\u001b[0m \u001b[0;34m=\u001b[0m \u001b[0mPath\u001b[0m\u001b[0;34m(\u001b[0m\u001b[0;34m'testSlide3.h5'\u001b[0m\u001b[0;34m)\u001b[0m\u001b[0;34m,\u001b[0m \u001b[0mdeleteExisting\u001b[0m \u001b[0;34m=\u001b[0m \u001b[0;32mTrue\u001b[0m\u001b[0;34m,\u001b[0m \u001b[0mloadFromFile\u001b[0m \u001b[0;34m=\u001b[0m \u001b[0mPath\u001b[0m\u001b[0;34m(\u001b[0m\u001b[0;34m'testSlide.h5'\u001b[0m\u001b[0;34m)\u001b[0m\u001b[0;34m)\u001b[0m\u001b[0;34m\u001b[0m\u001b[0;34m\u001b[0m\u001b[0m\n\u001b[0m",
      "\u001b[0;32m~/Dokumente/robotics-dev/robotwin/ObjectClasses/ObjectBaseClass.py\u001b[0m in \u001b[0;36m__init__\u001b[0;34m(self, filename, loadFromFile, deleteExisting, **kwargs)\u001b[0m\n\u001b[1;32m     95\u001b[0m         \u001b[0;32mif\u001b[0m \u001b[0mloadFromFile\u001b[0m\u001b[0;34m:\u001b[0m\u001b[0;34m\u001b[0m\u001b[0;34m\u001b[0m\u001b[0m\n\u001b[1;32m     96\u001b[0m             \u001b[0mself\u001b[0m\u001b[0;34m.\u001b[0m\u001b[0mresetProvenance\u001b[0m\u001b[0;34m(\u001b[0m\u001b[0;34m)\u001b[0m\u001b[0;34m\u001b[0m\u001b[0;34m\u001b[0m\u001b[0m\n\u001b[0;32m---> 97\u001b[0;31m             \u001b[0mself\u001b[0m\u001b[0;34m.\u001b[0m\u001b[0mload\u001b[0m\u001b[0;34m(\u001b[0m\u001b[0mloadFromFile\u001b[0m\u001b[0;34m)\u001b[0m\u001b[0;34m\u001b[0m\u001b[0;34m\u001b[0m\u001b[0m\n\u001b[0m\u001b[1;32m     98\u001b[0m \u001b[0;34m\u001b[0m\u001b[0m\n\u001b[1;32m     99\u001b[0m \u001b[0;34m\u001b[0m\u001b[0m\n",
      "\u001b[0;32m~/Dokumente/robotics-dev/robotwin/ObjectClasses/ObjectBaseClass.py\u001b[0m in \u001b[0;36mload\u001b[0;34m(self, filename)\u001b[0m\n\u001b[1;32m    376\u001b[0m         \u001b[0;32mfor\u001b[0m \u001b[0mkey\u001b[0m \u001b[0;32min\u001b[0m \u001b[0mself\u001b[0m\u001b[0;34m.\u001b[0m\u001b[0mloadKeys\u001b[0m\u001b[0;34m:\u001b[0m\u001b[0;34m\u001b[0m\u001b[0;34m\u001b[0m\u001b[0m\n\u001b[1;32m    377\u001b[0m             \u001b[0;32mif\u001b[0m \u001b[0mkey\u001b[0m \u001b[0;34m==\u001b[0m \u001b[0;34m'events'\u001b[0m\u001b[0;34m:\u001b[0m \u001b[0;32mcontinue\u001b[0m \u001b[0;31m# we do this at the end...\u001b[0m\u001b[0;34m\u001b[0m\u001b[0;34m\u001b[0m\u001b[0m\n\u001b[0;32m--> 378\u001b[0;31m             \u001b[0;32mwith\u001b[0m \u001b[0mh5py\u001b[0m\u001b[0;34m.\u001b[0m\u001b[0mFile\u001b[0m\u001b[0;34m(\u001b[0m\u001b[0mfilename\u001b[0m\u001b[0;34m,\u001b[0m \u001b[0;34m\"r\"\u001b[0m\u001b[0;34m)\u001b[0m \u001b[0;32mas\u001b[0m \u001b[0mh5f\u001b[0m\u001b[0;34m:\u001b[0m\u001b[0;34m\u001b[0m\u001b[0;34m\u001b[0m\u001b[0m\n\u001b[0m\u001b[1;32m    379\u001b[0m                 \u001b[0;32mif\u001b[0m \u001b[0mkey\u001b[0m \u001b[0;32min\u001b[0m \u001b[0mh5f\u001b[0m\u001b[0;34m[\u001b[0m\u001b[0;34mf\"{path}\"\u001b[0m\u001b[0;34m]\u001b[0m\u001b[0;34m:\u001b[0m\u001b[0;34m\u001b[0m\u001b[0;34m\u001b[0m\u001b[0m\n\u001b[1;32m    380\u001b[0m                     \u001b[0msetattr\u001b[0m\u001b[0;34m(\u001b[0m\u001b[0mself\u001b[0m\u001b[0;34m,\u001b[0m \u001b[0mkey\u001b[0m\u001b[0;34m,\u001b[0m \u001b[0mh5f\u001b[0m\u001b[0;34m[\u001b[0m\u001b[0;34mf\"{path}{key}/\"\u001b[0m\u001b[0;34m]\u001b[0m\u001b[0;34m[\u001b[0m\u001b[0;34m(\u001b[0m\u001b[0;34m)\u001b[0m\u001b[0;34m]\u001b[0m\u001b[0;34m)\u001b[0m\u001b[0;34m\u001b[0m\u001b[0;34m\u001b[0m\u001b[0m\n",
      "\u001b[0;32m~/.local/lib/python3.8/site-packages/h5py/_hl/files.py\u001b[0m in \u001b[0;36m__init__\u001b[0;34m(self, name, mode, driver, libver, userblock_size, swmr, rdcc_nslots, rdcc_nbytes, rdcc_w0, track_order, fs_strategy, fs_persist, fs_threshold, **kwds)\u001b[0m\n\u001b[1;32m    422\u001b[0m             \u001b[0;32mwith\u001b[0m \u001b[0mphil\u001b[0m\u001b[0;34m:\u001b[0m\u001b[0;34m\u001b[0m\u001b[0;34m\u001b[0m\u001b[0m\n\u001b[1;32m    423\u001b[0m                 \u001b[0mfapl\u001b[0m \u001b[0;34m=\u001b[0m \u001b[0mmake_fapl\u001b[0m\u001b[0;34m(\u001b[0m\u001b[0mdriver\u001b[0m\u001b[0;34m,\u001b[0m \u001b[0mlibver\u001b[0m\u001b[0;34m,\u001b[0m \u001b[0mrdcc_nslots\u001b[0m\u001b[0;34m,\u001b[0m \u001b[0mrdcc_nbytes\u001b[0m\u001b[0;34m,\u001b[0m \u001b[0mrdcc_w0\u001b[0m\u001b[0;34m,\u001b[0m \u001b[0;34m**\u001b[0m\u001b[0mkwds\u001b[0m\u001b[0;34m)\u001b[0m\u001b[0;34m\u001b[0m\u001b[0;34m\u001b[0m\u001b[0m\n\u001b[0;32m--> 424\u001b[0;31m                 fid = make_fid(name, mode, userblock_size,\n\u001b[0m\u001b[1;32m    425\u001b[0m                                fapl, fcpl=make_fcpl(track_order=track_order, fs_strategy=fs_strategy,\n\u001b[1;32m    426\u001b[0m                                fs_persist=fs_persist, fs_threshold=fs_threshold),\n",
      "\u001b[0;32m~/.local/lib/python3.8/site-packages/h5py/_hl/files.py\u001b[0m in \u001b[0;36mmake_fid\u001b[0;34m(name, mode, userblock_size, fapl, fcpl, swmr)\u001b[0m\n\u001b[1;32m    188\u001b[0m         \u001b[0;32mif\u001b[0m \u001b[0mswmr\u001b[0m \u001b[0;32mand\u001b[0m \u001b[0mswmr_support\u001b[0m\u001b[0;34m:\u001b[0m\u001b[0;34m\u001b[0m\u001b[0;34m\u001b[0m\u001b[0m\n\u001b[1;32m    189\u001b[0m             \u001b[0mflags\u001b[0m \u001b[0;34m|=\u001b[0m \u001b[0mh5f\u001b[0m\u001b[0;34m.\u001b[0m\u001b[0mACC_SWMR_READ\u001b[0m\u001b[0;34m\u001b[0m\u001b[0;34m\u001b[0m\u001b[0m\n\u001b[0;32m--> 190\u001b[0;31m         \u001b[0mfid\u001b[0m \u001b[0;34m=\u001b[0m \u001b[0mh5f\u001b[0m\u001b[0;34m.\u001b[0m\u001b[0mopen\u001b[0m\u001b[0;34m(\u001b[0m\u001b[0mname\u001b[0m\u001b[0;34m,\u001b[0m \u001b[0mflags\u001b[0m\u001b[0;34m,\u001b[0m \u001b[0mfapl\u001b[0m\u001b[0;34m=\u001b[0m\u001b[0mfapl\u001b[0m\u001b[0;34m)\u001b[0m\u001b[0;34m\u001b[0m\u001b[0;34m\u001b[0m\u001b[0m\n\u001b[0m\u001b[1;32m    191\u001b[0m     \u001b[0;32melif\u001b[0m \u001b[0mmode\u001b[0m \u001b[0;34m==\u001b[0m \u001b[0;34m'r+'\u001b[0m\u001b[0;34m:\u001b[0m\u001b[0;34m\u001b[0m\u001b[0;34m\u001b[0m\u001b[0m\n\u001b[1;32m    192\u001b[0m         \u001b[0mfid\u001b[0m \u001b[0;34m=\u001b[0m \u001b[0mh5f\u001b[0m\u001b[0;34m.\u001b[0m\u001b[0mopen\u001b[0m\u001b[0;34m(\u001b[0m\u001b[0mname\u001b[0m\u001b[0;34m,\u001b[0m \u001b[0mh5f\u001b[0m\u001b[0;34m.\u001b[0m\u001b[0mACC_RDWR\u001b[0m\u001b[0;34m,\u001b[0m \u001b[0mfapl\u001b[0m\u001b[0;34m=\u001b[0m\u001b[0mfapl\u001b[0m\u001b[0;34m)\u001b[0m\u001b[0;34m\u001b[0m\u001b[0;34m\u001b[0m\u001b[0m\n",
      "\u001b[0;32mh5py/_objects.pyx\u001b[0m in \u001b[0;36mh5py._objects.with_phil.wrapper\u001b[0;34m()\u001b[0m\n",
      "\u001b[0;32mh5py/_objects.pyx\u001b[0m in \u001b[0;36mh5py._objects.with_phil.wrapper\u001b[0;34m()\u001b[0m\n",
      "\u001b[0;32mh5py/h5f.pyx\u001b[0m in \u001b[0;36mh5py.h5f.open\u001b[0;34m()\u001b[0m\n",
      "\u001b[0;31mOSError\u001b[0m: Unable to open file (unable to open file: name = 'testSlide.h5', errno = 2, error message = 'No such file or directory', flags = 0, o_flags = 0)"
     ]
    }
   ],
   "source": [
    "slide3 = glassSlide(filename = Path('testSlide3.h5'), deleteExisting = True, loadFromFile = Path('testSlide.h5'))"
   ]
  },
  {
   "cell_type": "code",
   "execution_count": 44,
   "id": "magnetic-assets",
   "metadata": {},
   "outputs": [
    {
     "output_type": "error",
     "ename": "NameError",
     "evalue": "name 'slide3' is not defined",
     "traceback": [
      "\u001b[0;31m---------------------------------------------------------------------------\u001b[0m",
      "\u001b[0;31mNameError\u001b[0m                                 Traceback (most recent call last)",
      "\u001b[0;32m<ipython-input-44-29a8d15bb83b>\u001b[0m in \u001b[0;36m<module>\u001b[0;34m\u001b[0m\n\u001b[0;32m----> 1\u001b[0;31m \u001b[0mslide3\u001b[0m\u001b[0;34m.\u001b[0m\u001b[0m_provenance\u001b[0m\u001b[0;34m\u001b[0m\u001b[0;34m\u001b[0m\u001b[0m\n\u001b[0m",
      "\u001b[0;31mNameError\u001b[0m: name 'slide3' is not defined"
     ]
    }
   ],
   "source": [
    "slide3._provenance"
   ]
  },
  {
   "cell_type": "code",
   "execution_count": 24,
   "id": "fatty-wallace",
   "metadata": {},
   "outputs": [
    {
     "output_type": "execute_result",
     "data": {
      "text/plain": [
       "[{'timestamp': '2021-05-18T09:29:36.428258',\n",
       "  'event': 'Object name updated to my first glass slide'},\n",
       " {'timestamp': '2021-05-18T09:29:36.428316',\n",
       "  'event': 'Object STL filename updated to ObjectClasses/STLs/Glass_slide_text.stl.'},\n",
       " {'timestamp': '2021-05-18T09:29:36.428437',\n",
       "  'event': 'Object location updated to [0, 0, 91] mm'},\n",
       " {'timestamp': '2021-05-18T09:29:39.031685',\n",
       "  'event': 'Object STL mesh loaded from testSlide.h5.'},\n",
       " {'timestamp': '2021-05-18T09:29:39.056539',\n",
       "  'event': 'extent determined from STL: (-25.0, 25.0, -12.0, 12.0, 0.0, 0.17000000178813934).'},\n",
       " {'timestamp': '2021-05-18T09:29:39.058330',\n",
       "  'event': 'Object extent updated to [-25.0, 25.0, -12.0, 12.0, 0.0, 0.17000000178813934] mm'}]"
      ]
     },
     "metadata": {},
     "execution_count": 24
    }
   ],
   "source": [
    "slide1._provenance"
   ]
  },
  {
   "cell_type": "code",
   "execution_count": 25,
   "id": "vulnerable-minute",
   "metadata": {},
   "outputs": [],
   "source": [
    "slide2.location = [3, 5, 8]"
   ]
  },
  {
   "cell_type": "code",
   "execution_count": 26,
   "id": "fifteen-powder",
   "metadata": {},
   "outputs": [
    {
     "output_type": "execute_result",
     "data": {
      "text/plain": [
       "[{'timestamp': '2021-05-18T09:29:36.428258',\n",
       "  'event': 'Object name updated to my first glass slide'},\n",
       " {'timestamp': '2021-05-18T09:29:36.428316',\n",
       "  'event': 'Object STL filename updated to ObjectClasses/STLs/Glass_slide_text.stl.'},\n",
       " {'timestamp': '2021-05-18T09:29:36.428437',\n",
       "  'event': 'Object location updated to [0, 0, 91] mm'},\n",
       " {'timestamp': '2021-05-18T09:29:39.031685',\n",
       "  'event': 'Object STL mesh loaded from testSlide.h5.'},\n",
       " {'timestamp': '2021-05-18T09:29:39.056539',\n",
       "  'event': 'extent determined from STL: (-25.0, 25.0, -12.0, 12.0, 0.0, 0.17000000178813934).'},\n",
       " {'timestamp': '2021-05-18T09:29:39.058330',\n",
       "  'event': 'Object extent updated to [-25.0, 25.0, -12.0, 12.0, 0.0, 0.17000000178813934] mm'}]"
      ]
     },
     "metadata": {},
     "execution_count": 26
    }
   ],
   "source": [
    "slide1._provenance"
   ]
  },
  {
   "cell_type": "code",
   "execution_count": 27,
   "id": "brief-skiing",
   "metadata": {},
   "outputs": [],
   "source": [
    "N = 1000\n",
    "x, y, z = np.random.normal(0, 1, (3, N))"
   ]
  },
  {
   "cell_type": "code",
   "execution_count": 28,
   "id": "fifth-spokesman",
   "metadata": {},
   "outputs": [
    {
     "output_type": "display_data",
     "data": {
      "text/plain": "VBox(children=(Figure(camera=PerspectiveCamera(fov=46.0, position=(0.0, 0.0, 2.0), projectionMatrix=(1.0, 0.0,…",
      "application/vnd.jupyter.widget-view+json": {
       "version_major": 2,
       "version_minor": 0,
       "model_id": "9430f22a71e64f7e8c0b4e9a0a6dac79"
      }
     },
     "metadata": {}
    }
   ],
   "source": [
    "fig=ipv.figure()\n",
    "scatter = ipv.scatter(x, y, z, marker = 'sphere')\n",
    "ipv.show()"
   ]
  },
  {
   "cell_type": "code",
   "execution_count": 29,
   "id": "recovered-pitch",
   "metadata": {},
   "outputs": [
    {
     "output_type": "error",
     "ename": "NameError",
     "evalue": "name 'vaex' is not defined",
     "traceback": [
      "\u001b[0;31m---------------------------------------------------------------------------\u001b[0m",
      "\u001b[0;31mNameError\u001b[0m                                 Traceback (most recent call last)",
      "\u001b[0;32m<ipython-input-29-9825ea69af37>\u001b[0m in \u001b[0;36m<module>\u001b[0;34m\u001b[0m\n\u001b[0;32m----> 1\u001b[0;31m \u001b[0mds\u001b[0m \u001b[0;34m=\u001b[0m \u001b[0mvaex\u001b[0m\u001b[0;34m.\u001b[0m\u001b[0mexample\u001b[0m\u001b[0;34m(\u001b[0m\u001b[0;34m)\u001b[0m\u001b[0;34m\u001b[0m\u001b[0;34m\u001b[0m\u001b[0m\n\u001b[0m\u001b[1;32m      2\u001b[0m \u001b[0mN\u001b[0m \u001b[0;34m=\u001b[0m \u001b[0;36m2000\u001b[0m \u001b[0;31m# for performance reasons we only do a subset\u001b[0m\u001b[0;34m\u001b[0m\u001b[0;34m\u001b[0m\u001b[0m\n\u001b[1;32m      3\u001b[0m \u001b[0mx\u001b[0m\u001b[0;34m,\u001b[0m \u001b[0my\u001b[0m\u001b[0;34m,\u001b[0m \u001b[0mz\u001b[0m\u001b[0;34m,\u001b[0m \u001b[0mvx\u001b[0m\u001b[0;34m,\u001b[0m \u001b[0mvy\u001b[0m\u001b[0;34m,\u001b[0m \u001b[0mvz\u001b[0m\u001b[0;34m,\u001b[0m \u001b[0mLz\u001b[0m\u001b[0;34m,\u001b[0m \u001b[0mE\u001b[0m \u001b[0;34m=\u001b[0m \u001b[0;34m[\u001b[0m\u001b[0mds\u001b[0m\u001b[0;34m.\u001b[0m\u001b[0mcolumns\u001b[0m\u001b[0;34m[\u001b[0m\u001b[0mk\u001b[0m\u001b[0;34m]\u001b[0m\u001b[0;34m[\u001b[0m\u001b[0;34m:\u001b[0m\u001b[0mN\u001b[0m\u001b[0;34m]\u001b[0m \u001b[0;32mfor\u001b[0m \u001b[0mk\u001b[0m \u001b[0;32min\u001b[0m \u001b[0;34m\"x y z vx vy vz Lz E\"\u001b[0m\u001b[0;34m.\u001b[0m\u001b[0msplit\u001b[0m\u001b[0;34m(\u001b[0m\u001b[0;34m)\u001b[0m\u001b[0;34m]\u001b[0m\u001b[0;34m\u001b[0m\u001b[0;34m\u001b[0m\u001b[0m\n\u001b[1;32m      4\u001b[0m \u001b[0;34m\u001b[0m\u001b[0m\n\u001b[1;32m      5\u001b[0m \u001b[0mipv\u001b[0m\u001b[0;34m.\u001b[0m\u001b[0mclear\u001b[0m\u001b[0;34m(\u001b[0m\u001b[0;34m)\u001b[0m\u001b[0;34m\u001b[0m\u001b[0;34m\u001b[0m\u001b[0m\n",
      "\u001b[0;31mNameError\u001b[0m: name 'vaex' is not defined"
     ]
    }
   ],
   "source": [
    "ds = vaex.example()\n",
    "N = 2000 # for performance reasons we only do a subset\n",
    "x, y, z, vx, vy, vz, Lz, E = [ds.columns[k][:N] for k in \"x y z vx vy vz Lz E\".split()]\n",
    "\n",
    "ipv.clear()\n",
    "quiver = ipv.quiver(np.array((1.1,2.2)), np.array((2.1, 3.1)), np.array((3.1, 4.1)), np.array((4.1, 5.1)), np.array((5.1, 6.1)), np.array((6, 7)), size=20)\n",
    "ipv.show()"
   ]
  },
  {
   "cell_type": "code",
   "execution_count": 30,
   "id": "respective-agent",
   "metadata": {},
   "outputs": [
    {
     "output_type": "error",
     "ename": "NameError",
     "evalue": "name 'find_mins_maxs' is not defined",
     "traceback": [
      "\u001b[0;31m---------------------------------------------------------------------------\u001b[0m",
      "\u001b[0;31mNameError\u001b[0m                                 Traceback (most recent call last)",
      "\u001b[0;32m<ipython-input-30-7daae4795c02>\u001b[0m in \u001b[0;36m<module>\u001b[0;34m\u001b[0m\n\u001b[1;32m      1\u001b[0m \u001b[0mslideRMesh\u001b[0m \u001b[0;34m=\u001b[0m \u001b[0mmesh\u001b[0m\u001b[0;34m.\u001b[0m\u001b[0mMesh\u001b[0m\u001b[0;34m.\u001b[0m\u001b[0mfrom_file\u001b[0m\u001b[0;34m(\u001b[0m\u001b[0;34m'ObjectClasses/STLs/Slide_rack_text.stl'\u001b[0m\u001b[0;34m)\u001b[0m\u001b[0;34m\u001b[0m\u001b[0;34m\u001b[0m\u001b[0m\n\u001b[0;32m----> 2\u001b[0;31m \u001b[0mprint\u001b[0m\u001b[0;34m(\u001b[0m\u001b[0;34mf'extent: {find_mins_maxs(slideRMesh)}'\u001b[0m\u001b[0;34m)\u001b[0m\u001b[0;34m\u001b[0m\u001b[0;34m\u001b[0m\u001b[0m\n\u001b[0m",
      "\u001b[0;31mNameError\u001b[0m: name 'find_mins_maxs' is not defined"
     ]
    }
   ],
   "source": [
    "slideRMesh = mesh.Mesh.from_file('ObjectClasses/STLs/Slide_rack_text.stl')\n",
    "print(f'extent: {find_mins_maxs(slideRMesh)}')"
   ]
  },
  {
   "cell_type": "code",
   "execution_count": 31,
   "id": "entitled-equivalent",
   "metadata": {},
   "outputs": [
    {
     "output_type": "display_data",
     "data": {
      "text/plain": "Canvas(toolbar=Toolbar(toolitems=[('Home', 'Reset original view', 'home', 'home'), ('Back', 'Back to previous …",
      "application/vnd.jupyter.widget-view+json": {
       "version_major": 2,
       "version_minor": 0,
       "model_id": "0554773f2a2f45c2927429124eff7f2c"
      }
     },
     "metadata": {}
    },
    {
     "output_type": "stream",
     "name": "stderr",
     "text": [
      "<ipython-input-31-3e28a2eae206>:3: MatplotlibDeprecationWarning: Axes3D(fig) adding itself to the figure is deprecated since 3.4. Pass the keyword argument auto_add_to_figure=False and use fig.add_axes(ax) to suppress this warning. The default value of auto_add_to_figure will change to False in mpl3.5 and True values will no longer work in 3.6.  This is consistent with other Axes classes.\n  axes = mplot3d.Axes3D(figure)\n"
     ]
    }
   ],
   "source": [
    "# Create a new plot\n",
    "figure = plt.figure()\n",
    "axes = mplot3d.Axes3D(figure)\n",
    "\n",
    "# Load the STL files and add the vectors to the plot\n",
    "slideRMesh = mesh.Mesh.from_file('ObjectClasses/STLs/Slide_rack_text.stl')\n",
    "axes.add_collection3d(mplot3d.art3d.Poly3DCollection(slideRMesh.vectors))\n",
    "\n",
    "# Auto scale to the mesh size\n",
    "scale = slideRMesh.points.flatten()\n",
    "axes.auto_scale_xyz(scale, scale, scale)\n",
    "# doesn't work:\n",
    "# mplot3d.art3d.rotate_axes(0, 0, 90, 'z')\n",
    "# Show the plot to the screen\n",
    "plt.show()"
   ]
  },
  {
   "cell_type": "code",
   "execution_count": 26,
   "id": "immune-lotus",
   "metadata": {},
   "outputs": [
    {
     "ename": "NameError",
     "evalue": "name 'slideRMesh' is not defined",
     "output_type": "error",
     "traceback": [
      "\u001b[0;31m---------------------------------------------------------------------------\u001b[0m",
      "\u001b[0;31mNameError\u001b[0m                                 Traceback (most recent call last)",
      "\u001b[0;32m<ipython-input-26-714497f22db9>\u001b[0m in \u001b[0;36m<module>\u001b[0;34m\u001b[0m\n\u001b[1;32m      1\u001b[0m \u001b[0mipv\u001b[0m\u001b[0;34m.\u001b[0m\u001b[0mfigure\u001b[0m\u001b[0;34m(\u001b[0m\u001b[0;34m)\u001b[0m\u001b[0;34m\u001b[0m\u001b[0;34m\u001b[0m\u001b[0m\n\u001b[1;32m      2\u001b[0m \u001b[0;31m# we draw the tetrahedron\u001b[0m\u001b[0;34m\u001b[0m\u001b[0;34m\u001b[0m\u001b[0;34m\u001b[0m\u001b[0m\n\u001b[0;32m----> 3\u001b[0;31m \u001b[0mmesh\u001b[0m \u001b[0;34m=\u001b[0m \u001b[0mipv\u001b[0m\u001b[0;34m.\u001b[0m\u001b[0mplot_surface\u001b[0m\u001b[0;34m(\u001b[0m\u001b[0mslideRMesh\u001b[0m\u001b[0;34m.\u001b[0m\u001b[0mx\u001b[0m\u001b[0;34m,\u001b[0m \u001b[0mslideRMesh\u001b[0m\u001b[0;34m.\u001b[0m\u001b[0my\u001b[0m\u001b[0;34m,\u001b[0m \u001b[0mslideRMesh\u001b[0m\u001b[0;34m.\u001b[0m\u001b[0mz\u001b[0m\u001b[0;34m,\u001b[0m \u001b[0mcolor\u001b[0m\u001b[0;34m=\u001b[0m\u001b[0;34m'orange'\u001b[0m\u001b[0;34m)\u001b[0m\u001b[0;34m\u001b[0m\u001b[0;34m\u001b[0m\u001b[0m\n\u001b[0m\u001b[1;32m      4\u001b[0m \u001b[0;31m# and also mark the vertices\u001b[0m\u001b[0;34m\u001b[0m\u001b[0;34m\u001b[0m\u001b[0;34m\u001b[0m\u001b[0m\n\u001b[1;32m      5\u001b[0m \u001b[0mipv\u001b[0m\u001b[0;34m.\u001b[0m\u001b[0mxyzlim\u001b[0m\u001b[0;34m(\u001b[0m\u001b[0mnp\u001b[0m\u001b[0;34m.\u001b[0m\u001b[0mmin\u001b[0m\u001b[0;34m(\u001b[0m\u001b[0mfind_mins_maxs\u001b[0m\u001b[0;34m(\u001b[0m\u001b[0mslideRMesh\u001b[0m\u001b[0;34m)\u001b[0m\u001b[0;34m)\u001b[0m\u001b[0;34m,\u001b[0m \u001b[0mnp\u001b[0m\u001b[0;34m.\u001b[0m\u001b[0mmax\u001b[0m\u001b[0;34m(\u001b[0m\u001b[0mfind_mins_maxs\u001b[0m\u001b[0;34m(\u001b[0m\u001b[0mslideRMesh\u001b[0m\u001b[0;34m)\u001b[0m\u001b[0;34m)\u001b[0m\u001b[0;34m)\u001b[0m\u001b[0;34m\u001b[0m\u001b[0;34m\u001b[0m\u001b[0m\n",
      "\u001b[0;31mNameError\u001b[0m: name 'slideRMesh' is not defined"
     ]
    }
   ],
   "source": [
    "ipv.figure()\n",
    "# we draw the tetrahedron\n",
    "mesh = ipv.plot_surface(slideRMesh.x, slideRMesh.y, slideRMesh.z, color='orange')\n",
    "# and also mark the vertices\n",
    "ipv.xyzlim(np.min(find_mins_maxs(slideRMesh)), np.max(find_mins_maxs(slideRMesh)))\n",
    "ipv.show()"
   ]
  }
 ],
 "metadata": {
  "kernelspec": {
   "name": "python3",
   "display_name": "Python 3.8.5 64-bit"
  },
  "language_info": {
   "codemirror_mode": {
    "name": "ipython",
    "version": 3
   },
   "file_extension": ".py",
   "mimetype": "text/x-python",
   "name": "python",
   "nbconvert_exporter": "python",
   "pygments_lexer": "ipython3",
   "version": "3.8.5"
  },
  "interpreter": {
   "hash": "31f2aee4e71d21fbe5cf8b01ff0e069b9275f58929596ceb00d14d90e3e16cd6"
  }
 },
 "nbformat": 4,
 "nbformat_minor": 5
}