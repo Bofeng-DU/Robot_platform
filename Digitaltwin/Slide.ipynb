{
 "cells": [
  {
   "cell_type": "code",
   "execution_count": 2,
   "id": "ea597e7e",
   "metadata": {},
   "outputs": [],
   "source": [
    "# Trials of objects for the robo platform\n",
    "# HDF5 class for storing object parameters and provenance (not sure how to do the latter)\n",
    "\n",
    "# regular imports\n",
    "import numpy as np\n",
    "from pathlib import Path\n",
    "\n",
    "# imports of objects\n",
    "# requires 'pip install cfunits', and 'conda install -c conda-forge udunits2' on the command line\n",
    "from ObjectClasses.substrates import glassSlide\n",
    "from ObjectClasses.racks import slideRackSven, gripper\n",
    "from ObjectClasses.tables import opticalTableL, breadboard4545, breadboard1545, breadboard1515, breadboard1530, breadboard3045, breadboard1515C\n",
    "from ObjectClasses.motionplatforms import roboArm\n",
    "from ObjectClasses.cylinders import robotCylinder\n",
    "from ObjectClasses.smtProfiles import smt_50x25\n",
    "from ObjectClasses.syringeActuator import Alladin_1000\n",
    "from ObjectClasses.breadBoardCube import simpleBreadBoardCube\n",
    "from ObjectClasses.microscopes import wildType374547\n",
    "from ObjectClasses.hotPlate import IKA_HotPlate\n",
    "from RoboticSystemScene import RoboticSystemScene\n",
    "import pythreejs\n",
    "import ipywidgets\n",
    "from IPython.display import HTML, display\n",
    "\n",
    "# for 3D volume visualisation:\n",
    "# install nodeJS LTS from nodejs website \n",
    "# conda install -c conda-forge ipyvolume\n",
    "# jupyter labextension install @jupyter-widgets/jupyterlab-manager\n",
    "# jupyter labextension install ipyvolume\n",
    "# jupyter labextension install jupyter-threejs\n",
    "# pip install bqplot\n",
    "# jupyter labextension install bqplot\n",
    "import ipyvolume as ipv\n",
    "# pip install vaex\n",
    "# import vaex\n",
    "# loading STL:\n",
    "# pip install numpy-stl\n",
    "from stl import mesh\n",
    "# try using mplot3d for vis\n",
    "from mpl_toolkits import mplot3d\n",
    "import matplotlib.pyplot as plt\n",
    "%matplotlib inline\n",
    "%matplotlib widget\n",
    "# for rotations:\n",
    "from scipy.spatial import transform\n",
    "# for robot arm simulation:\n",
    "# pip install git+https://github.com/Mecademic/python_driver\n",
    "# import MecademicRobot\n",
    "from operator import add"
   ]
  },
  {
   "cell_type": "code",
   "execution_count": 3,
   "id": "30061a17",
   "metadata": {},
   "outputs": [],
   "source": [
    "# yea, that doesn't work without an actual robot, not even in sim mode...\n",
    "# robot = MecademicRobot.RobotController('192.168.0.100')"
   ]
  },
  {
   "cell_type": "code",
   "execution_count": 4,
   "id": "7950a674",
   "metadata": {},
   "outputs": [],
   "source": [
    "objectNames = []\n",
    "# put all the objects in here, so we can process them all later. \n",
    "# let's start with a table:\n",
    "mainTable= opticalTableL(\n",
    "    filename = Path('mainTable.h5'), \n",
    "    deleteExisting = True, \n",
    "    name = 'main optical base table',\n",
    "    rotation = [0., 0., 0.],\n",
    "    location = [0., 0., 0.]\n",
    ")\n",
    "\n",
    "# We need the breadboard on which the SMT profile stands\n",
    "smtBreadboard= breadboard1530(\n",
    "    filename = Path('smtBreadboard.h5'), \n",
    "    deleteExisting = True, \n",
    "    name = 'breadboard on which SMT profile stands', \n",
    "    parent = mainTable, \n",
    "    rotation = [0., 0., -90.],\n",
    "    location = list(map(add, mainTable.positions[29, 14], [12.5, 12.5, 0.]))\n",
    ")\n",
    "\n",
    "\n",
    "# I need a slide rack on a smaller breadboard:\n",
    "rackBreadboard= breadboard3045(\n",
    "    filename = Path('rackBreadboard.h5'), \n",
    "    deleteExisting = True, \n",
    "    name = 'breadboard on which the slide storage rack sits', \n",
    "    parent = mainTable, \n",
    "    rotation = [0., 0., 0.],\n",
    "    location = list(map(add, mainTable.positions[5, 7], [0., 0., 17.]))\n",
    ")\n",
    "\n",
    "# put the robot arm breadboard on it (small, centered version), somewhere in the middle\n",
    "armBreadboard= breadboard1530(\n",
    "    filename = Path('armBreadboard.h5'), \n",
    "    deleteExisting = True, \n",
    "    name = 'breadboard on which the cylinders sit', \n",
    "    parent = mainTable, \n",
    "    rotation = [0, 0, 0],\n",
    "    location = list(map(add, mainTable.positions[5, 19], [12.5, 12.5, 0.]))\n",
    ")\n",
    "\n",
    "# put the robot arm breadboard on it (small, centered version), somewhere in the middle\n",
    "cameraBreadboard= breadboard1515(\n",
    "    filename = Path('cameraBreadboard.h5'), \n",
    "    deleteExisting = True, \n",
    "    name = 'breadboard on which the camera is mounted', \n",
    "    parent = mainTable, \n",
    "    rotation = [0, 0, 0],\n",
    "    location = list(map(add, mainTable.positions[24, 8], [12.5, 12.5, 0.]))        \n",
    ")\n",
    "\n",
    "# I need a slide rack on a smaller breadboard:\n",
    "hotplateBreadboard= breadboard3045(\n",
    "    filename = Path('HPBreadboard.h5'), \n",
    "    deleteExisting = True, \n",
    "    name = 'breadboard on which the hotplate sits', \n",
    "    parent = mainTable, \n",
    "    rotation = [0, 0, 0],\n",
    "    location = list(map(add, mainTable.positions[2, 26], [12.5, 12.5, 0.]))\n",
    ")\n",
    "\n",
    "# We need the smt profile that holds Alladin\n",
    "smtAlladin = smt_50x25(\n",
    "    filename = Path('smtAlladin.h5'), \n",
    "    deleteExisting = True, \n",
    "    name = 'SMT profile that holds the Alladin syringe pump', \n",
    "    parent = smtBreadboard, \n",
    "    rotation = [0, 0, 0],\n",
    "    location = list(map(add, smtBreadboard.positions[8, 0], [12.5, 17., 0.]))\n",
    ")\n",
    "\n",
    "# We need the smt profile that holds Alladin\n",
    "alladinPump = Alladin_1000(\n",
    "    filename = Path('Alladin.h5'), \n",
    "    deleteExisting = True, \n",
    "    name = 'Alladin syringe pump', \n",
    "    parent = smtAlladin, \n",
    "    rotation = [0, 0, 0],\n",
    "    location = [0., 12.5, 566.]\n",
    ")\n",
    "\n",
    "armCylinders = []\n",
    "\n",
    "# put the 4 cylinders on the robot arm breadboard\n",
    "for i in range(2):\n",
    "    for j in range(2):\n",
    "        armCylinders += [robotCylinder(\n",
    "            filename = Path('armCylinder{}.h5'.format(i*2 + j + 1)), \n",
    "            deleteExisting = True, \n",
    "            name = 'cylinder on which the robot arm sits', \n",
    "            parent = armBreadboard, \n",
    "            rotation = [0, 0, 0],\n",
    "            location = armBreadboard.positions[6 + i*4, 1 + j*3]\n",
    "        )]\n",
    "\n",
    "# and the slide rack itself:\n",
    "rack1 = slideRackSven(\n",
    "    filename = Path('slideRack1.h5'), \n",
    "    stlFilename = Path('ObjectClasses/STLs/Slide_rack_text.stl'),\n",
    "    name = 'Slide Rack a la Sven',\n",
    "    parent = rackBreadboard,\n",
    "    rotation = [0, 0, 0], # rotation vector / Euler vector, units in degrees\n",
    "    location = list(map(add, rackBreadboard.positions[15, 9], [12.5, 0., 0.]))\n",
    ")\n",
    "\n",
    "# now I just need a slide or two:\n",
    "slide1= glassSlide(\n",
    "    filename = Path('testSlide.h5'), \n",
    "    deleteExisting = True, \n",
    "    name = 'my first glass slide', \n",
    "    stlFilename = Path('ObjectClasses/STLs/Glass_slide_text.stl'),\n",
    "    location = rack1.positions['B'],\n",
    "    parent = rack1\n",
    ")\n",
    "\n",
    "\n",
    "slide2= glassSlide(\n",
    "    filename = Path('testSlide2.h5'), \n",
    "    extent = [-25, 25, -12, 12, 0, 0.17], \n",
    "    name = 'my second glass slide',\n",
    "    location = rack1.positions['D'],\n",
    "    rotation = [0, 0, 10],\n",
    "    parent = rack1\n",
    ")\n",
    "\n",
    "# put the robot arm on it:\n",
    "arm = roboArm(\n",
    "    filename = Path('arm.h5'), \n",
    "    deleteExisting = True, \n",
    "    name = 'robot arm', \n",
    "    parent = armCylinders[0], \n",
    "    location = [50., 37.5, armCylinders[0].height],\n",
    "    rotation = [0, 0, 0],\n",
    "    positions = {'actuator': np.array([180., -60, -10.])}, # in external units (mm)\n",
    "    orientations = {'actuator': [0, 0, 180]} # in external units (degree)\n",
    ") # position of the robot arm (arm.positions['actuator']) would change over time, wonder if location of gripper can handle movements of position of attachment point?\n",
    "\n",
    "#attach the gripper:\n",
    "grip = gripper(\n",
    "    filename = Path('grip.h5'), \n",
    "    deleteExisting = True, \n",
    "    name = 'gripper', \n",
    "    stlFilename = Path('ObjectClasses/STLs/doubleGrips.stl'),\n",
    "    parent = arm, \n",
    "    location = arm.positions['actuator'],\n",
    "    rotation = arm.orientations['actuator'], # same same\n",
    "    # positions = {'actuator': [0, 66, -11]}\n",
    ")\n",
    "\n",
    "testCube = simpleBreadBoardCube(\n",
    "    filename = Path('testCube.h5'), \n",
    "    deleteExisting = True, \n",
    "    name = 'test_cube',\n",
    "    parent = rackBreadboard, \n",
    "    location = rackBreadboard.positions[5,5],\n",
    "    rotation = [0., 0., 0.]\n",
    ")\n",
    "\n",
    "microscope = wildType374547(\n",
    "    filename = Path('microscope.h5'),\n",
    "    stlFilename = Path('ObjectClasses/STLs/Microscope.stl'),\n",
    "    deleteExisting = True, \n",
    "    name = 'microscope',\n",
    "    parent = mainTable, \n",
    "    location = list(map(add, mainTable.positions[24,29], [12.5, 10., 0.])),\n",
    "    rotation = [0., 0., 0.]\n",
    ")\n",
    "\n",
    "hotplate = IKA_HotPlate(\n",
    "    filename = Path('hotplate.h5'),\n",
    "    stlFilename = Path('ObjectClasses/STLs/Hotplate.stl'),\n",
    "    deleteExisting = True, \n",
    "    name = 'hotplate',\n",
    "    parent = hotplateBreadboard, \n",
    "    location = list(map(add, hotplateBreadboard.positions[16, 1], [10., 3., 0.])),\n",
    "    rotation = [0., 0., 0.]\n",
    ")\n",
    "\n",
    "breadBoardOnHotplate = breadboard1515C(\n",
    "    filename = Path('breadBoardOnHotplate.h5'),\n",
    "    deleteExisting = True, \n",
    "    name = 'breadboard on top of hotplate',\n",
    "    parent = hotplate, \n",
    "    location = hotplate.positions[0],\n",
    "    rotation = [0., 0., 0.]\n",
    ")\n",
    "\n",
    "\n",
    "# Collect the objects inside a list\n",
    "objects = [\n",
    "    mainTable,\n",
    "    smtBreadboard,\n",
    "    rackBreadboard,\n",
    "    armBreadboard,\n",
    "    cameraBreadboard,\n",
    "    hotplateBreadboard,\n",
    "    smtAlladin,\n",
    "    alladinPump,\n",
    "    rack1,\n",
    "    slide1,\n",
    "    slide2,\n",
    "    arm,\n",
    "    grip,\n",
    "    testCube,\n",
    "    microscope,\n",
    "    hotplate,\n",
    "    breadBoardOnHotplate] + armCylinders\n",
    "\n",
    "# [setattr(key, obj) for key, obj in objects.items()]\n",
    "# for obj in objectList:\n",
    "#     obj.store() # not everything is stored such as parent and STL data. TODO: fix. it doesn't know how to deal with parent\n",
    "# now everything should be initialized and I can visualise the set-up (maybe)"
   ]
  },
  {
   "cell_type": "code",
   "execution_count": 5,
   "id": "56365fe0",
   "metadata": {},
   "outputs": [
    {
     "data": {
      "application/vnd.jupyter.widget-view+json": {
       "model_id": "15b55b07c3cc4a9fb117312644156ac0",
       "version_major": 2,
       "version_minor": 0
      },
      "text/plain": [
       "Renderer(camera=PerspectiveCamera(aspect=2.6666666666666665, position=(1000.0, 0.0, 1000.0), projectionMatrix=…"
      ]
     },
     "metadata": {},
     "output_type": "display_data"
    }
   ],
   "source": [
    "robot_sys_scene = RoboticSystemScene(objects=objects)\n",
    "robot_sys_scene.convertObjectsToMeshes()\n",
    "robot_sys_scene.createSceneThreeJs()\n",
    "robot_sys_scene.showSceneThreeJs()"
   ]
  },
  {
   "cell_type": "code",
   "execution_count": 31,
   "id": "d0f52bb7",
   "metadata": {},
   "outputs": [],
   "source": [
    "robot_sys_scene.translateObject(np.array([0.,0., 100.]), 0)"
   ]
  },
  {
   "cell_type": "code",
   "execution_count": 7,
   "id": "658c2764",
   "metadata": {},
   "outputs": [
    {
     "data": {
      "text/plain": [
       "(0.0, 0.0, 0.0)"
      ]
     },
     "execution_count": 7,
     "metadata": {},
     "output_type": "execute_result"
    }
   ],
   "source": [
    "robot_sys_scene.scene_3js.children[2].position"
   ]
  },
  {
   "cell_type": "code",
   "execution_count": 8,
   "id": "aa1f6010",
   "metadata": {},
   "outputs": [],
   "source": [
    "robot_sys_scene.rotateObject(np.array([0.,0., 90.]), 0)"
   ]
  },
  {
   "cell_type": "code",
   "execution_count": 13,
   "id": "7f90f7de",
   "metadata": {},
   "outputs": [
    {
     "data": {
      "text/plain": [
       "{'actuator': array([180., -60., 190.])}"
      ]
     },
     "execution_count": 13,
     "metadata": {},
     "output_type": "execute_result"
    }
   ],
   "source": [
    "# move arm position up, see if the gripper inherits that move:\n",
    "# put the robot arm on it:\n",
    "arm.positions['actuator'] += [0, 0, 100] # in external units (mm)\n",
    "arm.positions"
   ]
  },
  {
   "cell_type": "code",
   "execution_count": 14,
   "id": "da747e49",
   "metadata": {},
   "outputs": [
    {
     "data": {
      "text/plain": [
       "array([180., -60., -10.])"
      ]
     },
     "execution_count": 14,
     "metadata": {},
     "output_type": "execute_result"
    }
   ],
   "source": [
    "grip.location"
   ]
  },
  {
   "cell_type": "code",
   "execution_count": 15,
   "id": "6bce4f49",
   "metadata": {},
   "outputs": [],
   "source": [
    "# Matplotlib based visualization\n",
    "def showObjects(objects):\n",
    "    # Create a new plot\n",
    "#     figure = ipv.figure()\n",
    "    figure = plt.figure(figsize = [10, 8])\n",
    "    axes = mplot3d.Axes3D(figure)\n",
    "\n",
    "    # let's get some colors:\n",
    "    rbColors = plt.cm.rainbow(np.linspace(0, 1, len(objects)))\n",
    "\n",
    "    # Load the STL files and add the vectors to the plot\n",
    "    for num, obj in enumerate(objects):\n",
    "        print(f'working on object {obj.name}')\n",
    "        if obj in [mainTable]:\n",
    "            continue # don't show these, mplot3d isn't very good at it. \n",
    "        objStlVectors = obj.renderAbsoluteStlVectors()\n",
    "        # we draw the tetrahedron\n",
    "        # axes = ipv.plot_surface(objStlVectors[:,0], objStlVectors[:,1], objStlVectors[:,2], color=rbColors[num])\n",
    "        axes.add_collection3d(mplot3d.art3d.Poly3DCollection(objStlVectors, color = rbColors[num]))\n",
    "\n",
    "    # Auto scale to the mesh size\n",
    "    scale = mainTable.stl.points.flatten()\n",
    "    axes.set_xlim(250, 1000)\n",
    "    axes.set_xlabel('x')\n",
    "    axes.set_ylim(0, 750)\n",
    "    axes.set_ylabel('y')\n",
    "    axes.set_zlim(-250, 500)\n",
    "    axes.set_zlabel('z')\n",
    "    # axes.set_aspect(1)\n",
    "    # doesn't work:\n",
    "    # mplot3d.art3d.rotate_axes(0, 0, 90, 'z')\n",
    "    # Show the plot to the screen\n",
    "    plt.legend()\n",
    "    plt.show()\n",
    "    for obj in objects:\n",
    "        print(f'{obj.name}\\n \\t extent: {obj.extent}, absLoc: {obj.getAbsoluteLocation()}')\n",
    "# showObjects(objects)"
   ]
  },
  {
   "cell_type": "code",
   "execution_count": 27,
   "id": "a0902c39",
   "metadata": {},
   "outputs": [
    {
     "ename": "SyntaxError",
     "evalue": "unexpected EOF while parsing (<ipython-input-27-b088133b3a01>, line 17)",
     "output_type": "error",
     "traceback": [
      "\u001b[0;36m  File \u001b[0;32m\"<ipython-input-27-b088133b3a01>\"\u001b[0;36m, line \u001b[0;32m17\u001b[0m\n\u001b[0;31m    camera_action = pythreejs.AnimationAction(pythreejs.AnimationMixer(camera)\u001b[0m\n\u001b[0m                                                                              ^\u001b[0m\n\u001b[0;31mSyntaxError\u001b[0m\u001b[0;31m:\u001b[0m unexpected EOF while parsing\n"
     ]
    }
   ],
   "source": [
    "# Animation track and' rotation setup\n",
    "\n",
    "positon_track = pythreejs.VectorKeyframeTrack(name='.position',\n",
    "    times=[0, 2, 5],\n",
    "    values=[10, 6, 10,\n",
    "            6.3, 3.78, 6.3,\n",
    "            -2.98, 0.84, 9.2,\n",
    "        ])\n",
    "rotation_track = pythreejs.QuaternionKeyframeTrack(name='.quaternion',\n",
    "    times=[0, 2, 5],\n",
    "    values=[-0.184, 0.375, 0.0762, 0.905,\n",
    "            -0.184, 0.375, 0.0762, 0.905,\n",
    "            -0.0430, -0.156, -0.00681, 0.987,\n",
    "        ])\n",
    "\n",
    "camera_clip = pythreejs.AnimationClip(tracks=[positon_track, rotation_track])\n",
    "camera_action = pythreejs.AnimationAction(pythreejs.AnimationMixer(camera)"
   ]
  },
  {
   "cell_type": "code",
   "execution_count": null,
   "id": "18908b7c",
   "metadata": {},
   "outputs": [],
   "source": [
    "# for i in range(len(meshes)):\n",
    "#     meshes[i].receiveShadow = True\n",
    "#     meshes[i].castShadow = True"
   ]
  },
  {
   "cell_type": "code",
   "execution_count": null,
   "id": "ba0a89db",
   "metadata": {},
   "outputs": [],
   "source": [
    "# Visualize the objects' meshes\n",
    "scene = showMeshesThreeJs(meshes, camera)"
   ]
  },
  {
   "cell_type": "code",
   "execution_count": null,
   "id": "4704a2e2",
   "metadata": {},
   "outputs": [],
   "source": [
    "animation"
   ]
  },
  {
   "cell_type": "code",
   "execution_count": null,
   "id": "a967dbcd",
   "metadata": {},
   "outputs": [],
   "source": [
    "def rotation_around_axis(axis, degrees, mesh):\n",
    "\n",
    "    rotation_null = Quaternion(axis=axis, degrees=0.)\n",
    "    rotation_null = list(rotation_null.elements)\n",
    "\n",
    "    rotation = Quaternion(axis=axis, degrees=degrees)\n",
    "    rotation = list(rotation.elements)\n",
    "\n",
    "    rotation_null.extend(rotation)\n",
    "    values = rotation_null\n",
    "\n",
    "    track = QuaternionKeyframeTrack(name='.quaternion', times=[0,1], values=values)\n",
    "    clip = AnimationClip(tracks=[track])\n",
    "    animation = AnimationAction(mixer=AnimationMixer(), clip=clip, localRoot=mesh)\n",
    "\n",
    "    return animation"
   ]
  },
  {
   "cell_type": "code",
   "execution_count": null,
   "id": "76e12021",
   "metadata": {},
   "outputs": [],
   "source": [
    "animation = rotation_around_axis([1,0,0], 90., meshes[1])"
   ]
  },
  {
   "cell_type": "code",
   "execution_count": null,
   "id": "22903c1d",
   "metadata": {},
   "outputs": [],
   "source": [
    "meshes[8].position = (0., 0., 0.)"
   ]
  },
  {
   "cell_type": "code",
   "execution_count": null,
   "id": "59f038d9",
   "metadata": {},
   "outputs": [],
   "source": [
    "meshes[8].quaternion = (0., 0., 0., 1.)"
   ]
  },
  {
   "cell_type": "code",
   "execution_count": null,
   "id": "edb169d9",
   "metadata": {},
   "outputs": [],
   "source": [
    "meshes[8].rotateZ(1.)"
   ]
  },
  {
   "cell_type": "code",
   "execution_count": null,
   "id": "85854f5b",
   "metadata": {},
   "outputs": [],
   "source": [
    "track1 = NumberKeyframeTrack(name='.rotation[z]', times=[0,1], values=[0,1])\n",
    "clip1 = AnimationClip(tracks=[track1])\n",
    "animation1 = AnimationAction(mixer=AnimationMixer(), clip=clip1, localRoot=meshes[11])"
   ]
  },
  {
   "cell_type": "code",
   "execution_count": null,
   "id": "d45986fb",
   "metadata": {},
   "outputs": [],
   "source": [
    "track2 = VectorKeyframeTrack(name='.position', times=[0,1], values=[0.,0.,0., 0.,0.,300.])\n",
    "clip2 = AnimationClip(tracks=[track1, track2])\n",
    "animation2 = AnimationAction(mixer=AnimationMixer(), clip=clip2, localRoot=meshes[12])  "
   ]
  },
  {
   "cell_type": "code",
   "execution_count": null,
   "id": "28c1a06b",
   "metadata": {},
   "outputs": [],
   "source": [
    "rotation_null = Quaternion(axis=[0,0,1], degrees=0.)"
   ]
  },
  {
   "cell_type": "code",
   "execution_count": null,
   "id": "bc6caea2",
   "metadata": {},
   "outputs": [],
   "source": [
    "rotation_null = list(rotation_null.elements)"
   ]
  },
  {
   "cell_type": "code",
   "execution_count": null,
   "id": "3692d1f8",
   "metadata": {},
   "outputs": [],
   "source": [
    "rotation_z = Quaternion(axis=[0,0,1], degrees=90.)"
   ]
  },
  {
   "cell_type": "code",
   "execution_count": null,
   "id": "90703490",
   "metadata": {},
   "outputs": [],
   "source": [
    "rotation_z = list(rotation_z.elements)"
   ]
  },
  {
   "cell_type": "code",
   "execution_count": null,
   "id": "f39a81b7",
   "metadata": {},
   "outputs": [],
   "source": [
    "rotation_null.extend(rotation_z)"
   ]
  },
  {
   "cell_type": "code",
   "execution_count": null,
   "id": "ac59fbda",
   "metadata": {},
   "outputs": [],
   "source": [
    "values = rotation_null"
   ]
  },
  {
   "cell_type": "code",
   "execution_count": null,
   "id": "42e61153",
   "metadata": {},
   "outputs": [],
   "source": [
    "track3 = QuaternionKeyframeTrack(name='.quaternion', times=[0,1], values=values)\n",
    "clip3 = AnimationClip(tracks=[track3])\n",
    "animation3 = AnimationAction(mixer=AnimationMixer(), clip=clip3, localRoot=meshes[12])  "
   ]
  },
  {
   "cell_type": "code",
   "execution_count": null,
   "id": "506a88eb",
   "metadata": {},
   "outputs": [],
   "source": [
    "animation1.loop = 'LoopOnce'"
   ]
  },
  {
   "cell_type": "code",
   "execution_count": null,
   "id": "152beb10",
   "metadata": {},
   "outputs": [],
   "source": [
    "animation2.loop = 'LoopOnce'"
   ]
  },
  {
   "cell_type": "code",
   "execution_count": null,
   "id": "da7d87b0",
   "metadata": {},
   "outputs": [],
   "source": [
    "animations = [animation1, animation2]\n",
    "for i in range(2):\n",
    "    animations[i].play()"
   ]
  },
  {
   "cell_type": "code",
   "execution_count": null,
   "id": "0f18fe5d",
   "metadata": {},
   "outputs": [],
   "source": [
    "scene2 = Scene(children=[meshes[1], meshes[2]])"
   ]
  },
  {
   "cell_type": "code",
   "execution_count": null,
   "id": "fcb205ed",
   "metadata": {},
   "outputs": [],
   "source": [
    "# [(name, type(getattr(meshes[0], name))) for name in dir(meshes[0])]"
   ]
  },
  {
   "cell_type": "code",
   "execution_count": null,
   "id": "2203d2d6",
   "metadata": {},
   "outputs": [],
   "source": []
  },
  {
   "cell_type": "code",
   "execution_count": null,
   "id": "85b247ea",
   "metadata": {},
   "outputs": [],
   "source": [
    "# [(name,type(getattr(animation1,name))) for name in dir(animation1)]"
   ]
  },
  {
   "cell_type": "code",
   "execution_count": null,
   "id": "781550a4",
   "metadata": {},
   "outputs": [],
   "source": [
    "# [(name,type(getattr(track1,name))) for name in dir(track1)]"
   ]
  },
  {
   "cell_type": "code",
   "execution_count": null,
   "id": "d7b9df71",
   "metadata": {},
   "outputs": [],
   "source": [
    "camera_action"
   ]
  },
  {
   "cell_type": "code",
   "execution_count": null,
   "id": "4adf73ef",
   "metadata": {},
   "outputs": [],
   "source": [
    "# Everything below here contains tests, part of which don't work"
   ]
  },
  {
   "cell_type": "code",
   "execution_count": null,
   "id": "ab085040",
   "metadata": {},
   "outputs": [],
   "source": [
    "arm.positions['actuator']"
   ]
  },
  {
   "cell_type": "code",
   "execution_count": null,
   "id": "8b46dc09",
   "metadata": {},
   "outputs": [],
   "source": [
    "slide2.getAbsoluteLocation()"
   ]
  },
  {
   "cell_type": "code",
   "execution_count": null,
   "id": "e80d4d83",
   "metadata": {},
   "outputs": [],
   "source": [
    "# test on combining rotations \n",
    "r = transform.Rotation.from_rotvec([np.pi/2, 0, 0])\n",
    "r.apply([1,2,3])"
   ]
  },
  {
   "cell_type": "code",
   "execution_count": null,
   "id": "1875df1a",
   "metadata": {},
   "outputs": [],
   "source": [
    "armBreadboard.provenance()"
   ]
  },
  {
   "cell_type": "code",
   "execution_count": null,
   "id": "2af68574",
   "metadata": {},
   "outputs": [],
   "source": [
    "# reveal what units are used on the user side (external) and for storage/description (internal)\n",
    "slide1.units()"
   ]
  },
  {
   "cell_type": "code",
   "execution_count": null,
   "id": "b862ce12",
   "metadata": {},
   "outputs": [],
   "source": [
    "# slide1.store()"
   ]
  },
  {
   "cell_type": "code",
   "execution_count": null,
   "id": "6a2e6478",
   "metadata": {},
   "outputs": [],
   "source": [
    "slide1.extent"
   ]
  },
  {
   "cell_type": "code",
   "execution_count": null,
   "id": "db11c119",
   "metadata": {},
   "outputs": [],
   "source": [
    "slide1.loadStl()\n",
    "slide1.extentFromStl(setExtent = True)"
   ]
  },
  {
   "cell_type": "code",
   "execution_count": null,
   "id": "e069cdfa",
   "metadata": {},
   "outputs": [],
   "source": [
    "# Create a new plot\n",
    "figure = plt.figure()\n",
    "axes = mplot3d.Axes3D(figure)\n",
    "\n",
    "# Load the STL files and add the vectors to the plot\n",
    "axes.add_collection3d(mplot3d.art3d.Poly3DCollection(slide1.stl.vectors))\n",
    "\n",
    "cube = slide1.unityCube()\n",
    "cube.vectors *= [20, 1, 30]\n",
    "axes.add_collection3d(mplot3d.art3d.Poly3DCollection(cube.vectors))\n",
    "\n",
    "\n",
    "# Auto scale to the mesh size\n",
    "scale = slide1.stl.points.flatten()\n",
    "axes.auto_scale_xyz(scale, scale, scale)\n",
    "# doesn't work:\n",
    "# mplot3d.art3d.rotate_axes(0, 0, 90, 'z')\n",
    "# Show the plot to the screen\n",
    "plt.show()"
   ]
  },
  {
   "cell_type": "code",
   "execution_count": null,
   "id": "72d1e7ab",
   "metadata": {},
   "outputs": [],
   "source": [
    "cube.transform?"
   ]
  },
  {
   "cell_type": "code",
   "execution_count": null,
   "id": "61d5b5f8",
   "metadata": {},
   "outputs": [],
   "source": [
    "slide3 = glassSlide(filename = Path('testSlide3.h5'), deleteExisting = True, loadFromFile = Path('testSlide.h5'))"
   ]
  },
  {
   "cell_type": "code",
   "execution_count": null,
   "id": "261c7881",
   "metadata": {},
   "outputs": [],
   "source": [
    "slide3._provenance"
   ]
  },
  {
   "cell_type": "code",
   "execution_count": null,
   "id": "8c34821c",
   "metadata": {},
   "outputs": [],
   "source": [
    "slide1._provenance"
   ]
  },
  {
   "cell_type": "code",
   "execution_count": null,
   "id": "3e4d6a53",
   "metadata": {},
   "outputs": [],
   "source": [
    "slide2.location = [3, 5, 8]"
   ]
  },
  {
   "cell_type": "code",
   "execution_count": null,
   "id": "82f82c86",
   "metadata": {},
   "outputs": [],
   "source": [
    "slide1._provenance"
   ]
  },
  {
   "cell_type": "code",
   "execution_count": null,
   "id": "bc800e95",
   "metadata": {},
   "outputs": [],
   "source": [
    "N = 1000\n",
    "x, y, z = np.random.normal(0, 1, (3, N))"
   ]
  },
  {
   "cell_type": "code",
   "execution_count": null,
   "id": "42e2e2a4",
   "metadata": {},
   "outputs": [],
   "source": [
    "fig=ipv.figure()\n",
    "scatter = ipv.scatter(x, y, z, marker = 'sphere')\n",
    "ipv.show()"
   ]
  },
  {
   "cell_type": "code",
   "execution_count": null,
   "id": "453f768a",
   "metadata": {},
   "outputs": [],
   "source": [
    "ds = vaex.example()\n",
    "N = 2000 # for performance reasons we only do a subset\n",
    "x, y, z, vx, vy, vz, Lz, E = [ds.columns[k][:N] for k in \"x y z vx vy vz Lz E\".split()]\n",
    "\n",
    "ipv.clear()\n",
    "quiver = ipv.quiver(np.array((1.1,2.2)), np.array((2.1, 3.1)), np.array((3.1, 4.1)), np.array((4.1, 5.1)), np.array((5.1, 6.1)), np.array((6, 7)), size=20)\n",
    "ipv.show()"
   ]
  },
  {
   "cell_type": "code",
   "execution_count": null,
   "id": "6425e47a",
   "metadata": {},
   "outputs": [],
   "source": [
    "slideRMesh = mesh.Mesh.from_file('ObjectClasses/STLs/Slide_rack_text.stl')\n",
    "print(f'extent: {find_mins_maxs(slideRMesh)}')"
   ]
  },
  {
   "cell_type": "code",
   "execution_count": null,
   "id": "3db20ea5",
   "metadata": {},
   "outputs": [],
   "source": [
    "# Create a new plot\n",
    "figure = plt.figure()\n",
    "axes = mplot3d.Axes3D(figure)\n",
    "\n",
    "# Load the STL files and add the vectors to the plot\n",
    "slideRMesh = mesh.Mesh.from_file('ObjectClasses/STLs/Slide_rack_text.stl')\n",
    "axes.add_collection3d(mplot3d.art3d.Poly3DCollection(slideRMesh.vectors))\n",
    "\n",
    "# Auto scale to the mesh size\n",
    "scale = slideRMesh.points.flatten()\n",
    "axes.auto_scale_xyz(scale, scale, scale)\n",
    "# doesn't work:\n",
    "# mplot3d.art3d.rotate_axes(0, 0, 90, 'z')\n",
    "# Show the plot to the screen\n",
    "plt.show()"
   ]
  },
  {
   "cell_type": "code",
   "execution_count": null,
   "id": "1b8b68eb",
   "metadata": {},
   "outputs": [],
   "source": [
    "ipv.figure()\n",
    "# we draw the tetrahedron\n",
    "mesh = ipv.plot_surface(slideRMesh.x, slideRMesh.y, slideRMesh.z, color='orange')\n",
    "# and also mark the vertices\n",
    "ipv.xyzlim(np.min(find_mins_maxs(slideRMesh)), np.max(find_mins_maxs(slideRMesh)))\n",
    "ipv.show()"
   ]
  }
 ],
 "metadata": {
  "interpreter": {
   "hash": "31f2aee4e71d21fbe5cf8b01ff0e069b9275f58929596ceb00d14d90e3e16cd6"
  },
  "kernelspec": {
   "display_name": "Python 3",
   "language": "python",
   "name": "python3"
  },
  "language_info": {
   "codemirror_mode": {
    "name": "ipython",
    "version": 3
   },
   "file_extension": ".py",
   "mimetype": "text/x-python",
   "name": "python",
   "nbconvert_exporter": "python",
   "pygments_lexer": "ipython3",
   "version": "3.7.6"
  }
 },
 "nbformat": 4,
 "nbformat_minor": 5
}
